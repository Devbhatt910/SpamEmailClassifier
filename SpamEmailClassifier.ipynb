{
  "nbformat": 4,
  "nbformat_minor": 0,
  "metadata": {
    "colab": {
      "provenance": [],
      "authorship_tag": "ABX9TyNo2Ii5bB5cCwQ3huy3dkrV",
      "include_colab_link": true
    },
    "kernelspec": {
      "name": "python3",
      "display_name": "Python 3"
    },
    "language_info": {
      "name": "python"
    }
  },
  "cells": [
    {
      "cell_type": "markdown",
      "metadata": {
        "id": "view-in-github",
        "colab_type": "text"
      },
      "source": [
        "<a href=\"https://colab.research.google.com/github/Devbhatt910/SpamEmailClassifier/blob/main/SpamEmailClassifier.ipynb\" target=\"_parent\"><img src=\"https://colab.research.google.com/assets/colab-badge.svg\" alt=\"Open In Colab\"/></a>"
      ]
    },
    {
      "cell_type": "code",
      "execution_count": 22,
      "metadata": {
        "colab": {
          "base_uri": "https://localhost:8080/"
        },
        "collapsed": true,
        "id": "4OQ2qmVQjmp2",
        "outputId": "72b8a19b-64a8-431e-bc22-6480ce7033f5"
      },
      "outputs": [
        {
          "output_type": "stream",
          "name": "stdout",
          "text": [
            "Libraries and NLTK data loaded successfully!\n"
          ]
        },
        {
          "output_type": "stream",
          "name": "stderr",
          "text": [
            "[nltk_data] Downloading package stopwords to /root/nltk_data...\n",
            "[nltk_data]   Package stopwords is already up-to-date!\n",
            "[nltk_data] Downloading package punkt to /root/nltk_data...\n",
            "[nltk_data]   Package punkt is already up-to-date!\n",
            "[nltk_data] Downloading package wordnet to /root/nltk_data...\n",
            "[nltk_data]   Package wordnet is already up-to-date!\n"
          ]
        }
      ],
      "source": [
        "# Install NLTK data (run this once)\n",
        "import nltk\n",
        "nltk.download('stopwords')\n",
        "nltk.download('punkt')\n",
        "nltk.download('wordnet') # For lemmatization (optional, but good to have)\n",
        "\n",
        "# Import essential libraries\n",
        "import pandas as pd\n",
        "import numpy as np\n",
        "import re # Regular expressions for text cleaning\n",
        "import string # For punctuation\n",
        "\n",
        "from sklearn.model_selection import train_test_split\n",
        "from sklearn.feature_extraction.text import TfidfVectorizer # For converting text to numbers\n",
        "from sklearn.naive_bayes import MultinomialNB # Our chosen model\n",
        "from sklearn.metrics import accuracy_score, precision_score, recall_score, f1_score, confusion_matrix, ConfusionMatrixDisplay\n",
        "import matplotlib.pyplot as plt\n",
        "import seaborn as sns\n",
        "\n",
        "print(\"Libraries and NLTK data loaded successfully!\")"
      ]
    },
    {
      "cell_type": "markdown",
      "source": [
        "### What this cell does:\n",
        "\n",
        "This initial setup cell prepares our environment by installing necessary NLTK data and importing all the Python libraries we'll need for data handling, text processing, machine learning, and visualization.\n",
        "\n",
        "#### How it works & Which libraries do what:\n",
        "\n",
        "* **`nltk.download('stopwords')`, `nltk.download('punkt')`, `nltk.download('wordnet')`**: These lines download linguistic data packages from NLTK.\n",
        "    * **NLTK (Natural Language Toolkit)**: A powerful library for working with human language data. We need its `stopwords` (common words to ignore), `punkt` (for tokenization), and `wordnet` (for lemmatization if used).\n",
        "* **`pandas as pd`**: Imports the Pandas library, aliased as `pd`.\n",
        "    * **Pandas**: Essential for data manipulation and analysis. It allows us to read our CSV file into a structured DataFrame, perform operations like column renaming, and handle data cleaning efficiently.\n",
        "* **`numpy as np`**: Imports the NumPy library, aliased as `np`.\n",
        "    * **NumPy**: Provides support for large, multi-dimensional arrays and matrices, along with a collection of high-level mathematical functions to operate on these arrays. Pandas often uses NumPy arrays under the hood.\n",
        "* **`re`**: Imports Python's built-in regular expression module.\n",
        "    * **`re`**: Used for advanced string matching and manipulation, crucial for cleaning text by removing patterns like URLs, emails, or numbers.\n",
        "* **`string`**: Imports Python's built-in string module.\n",
        "    * **`string`**: Provides a collection of string constants, like punctuation characters, which we use to remove punctuation from text.\n",
        "* **`sklearn.model_selection.train_test_split`**: Imports a function from Scikit-learn.\n",
        "    * **Scikit-learn**: A comprehensive machine learning library. `train_test_split` helps divide our dataset into separate sets for training and testing our model.\n",
        "* **`sklearn.feature_extraction.text.TfidfVectorizer`**: Imports a class from Scikit-learn.\n",
        "    * **`TfidfVectorizer`**: Converts raw text documents into a matrix of TF-IDF features. This transforms words into numbers that a machine learning model can understand.\n",
        "* **`sklearn.naive_bayes.MultinomialNB`**: Imports a classifier from Scikit-learn.\n",
        "    * **`MultinomialNB`**: The specific machine learning algorithm (Multinomial Naive Bayes) we've chosen for our spam classification task, well-suited for text data with discrete features.\n",
        "* **`sklearn.metrics.*`**: Imports various functions for model evaluation.\n",
        "    * **Scikit-learn (metrics)**: Provides functions like `accuracy_score`, `precision_score`, `recall_score`, `f1_score`, and `confusion_matrix` to assess how well our trained model is performing.\n",
        "* **`matplotlib.pyplot as plt`**: Imports Matplotlib's plotting interface, aliased as `plt`.\n",
        "    * **Matplotlib**: A fundamental plotting library for Python. Used to create static, interactive, and animated visualizations, such as charts and graphs (e.g., for the confusion matrix).\n",
        "* **`seaborn as sns`**: Imports Seaborn, aliased as `sns`.\n",
        "    * **Seaborn**: A high-level data visualization library based on Matplotlib. It provides a simpler interface for drawing attractive and informative statistical graphics, like heatmaps for the confusion matrix."
      ],
      "metadata": {
        "id": "wamKuUOIlekP"
      }
    },
    {
      "cell_type": "code",
      "source": [
        "df = pd.read_csv('spam.csv', encoding='latin-1')\n",
        "print('DataSet loaded')\n",
        "\n",
        "print(df.head(5))\n",
        "\n",
        "print(df.info())"
      ],
      "metadata": {
        "colab": {
          "base_uri": "https://localhost:8080/"
        },
        "collapsed": true,
        "id": "fqCMFxFSlgES",
        "outputId": "a540d6dc-ecb4-4a79-f4f7-c483ada2b027"
      },
      "execution_count": 23,
      "outputs": [
        {
          "output_type": "stream",
          "name": "stdout",
          "text": [
            "DataSet loaded\n",
            "     v1                                                 v2 Unnamed: 2  \\\n",
            "0   ham  Go until jurong point, crazy.. Available only ...        NaN   \n",
            "1   ham                      Ok lar... Joking wif u oni...        NaN   \n",
            "2  spam  Free entry in 2 a wkly comp to win FA Cup fina...        NaN   \n",
            "3   ham  U dun say so early hor... U c already then say...        NaN   \n",
            "4   ham  Nah I don't think he goes to usf, he lives aro...        NaN   \n",
            "\n",
            "  Unnamed: 3 Unnamed: 4  \n",
            "0        NaN        NaN  \n",
            "1        NaN        NaN  \n",
            "2        NaN        NaN  \n",
            "3        NaN        NaN  \n",
            "4        NaN        NaN  \n",
            "<class 'pandas.core.frame.DataFrame'>\n",
            "RangeIndex: 5572 entries, 0 to 5571\n",
            "Data columns (total 5 columns):\n",
            " #   Column      Non-Null Count  Dtype \n",
            "---  ------      --------------  ----- \n",
            " 0   v1          5572 non-null   object\n",
            " 1   v2          5572 non-null   object\n",
            " 2   Unnamed: 2  50 non-null     object\n",
            " 3   Unnamed: 3  12 non-null     object\n",
            " 4   Unnamed: 4  6 non-null      object\n",
            "dtypes: object(5)\n",
            "memory usage: 217.8+ KB\n",
            "None\n"
          ]
        }
      ]
    },
    {
      "cell_type": "markdown",
      "source": [
        "### What this cell does:\n",
        "\n",
        "This cell loads our `spam.csv` file into a Pandas DataFrame and gives us a first look at its structure and content. It's the initial step of bringing our data into the Python environment.\n",
        "\n",
        "#### How it works & Which libraries do what:\n",
        "\n",
        "* **`pd.read_csv('spam.csv', encoding='latin-1')`**:\n",
        "    * **Pandas (`pd`)**: The `read_csv` function from Pandas is used to load data from a CSV (Comma Separated Values) file. We specify `'spam.csv'` as the file name and `'latin-1'` as the `encoding` because this particular dataset often requires it to correctly interpret characters.\n",
        "* **`df.head()`**:\n",
        "    * **Pandas (DataFrame method)**: Displays the first 5 rows of the DataFrame (`df`). This is a quick way to inspect the data's format, column names, and initial values.\n",
        "* **`df.info()`**:\n",
        "    * **Pandas (DataFrame method)**: Provides a concise summary of the DataFrame, including the number of entries, column names, non-null counts (how many values are present for each column), and data types. It helps us check for missing data or unexpected data types.\n",
        "* **`df['v1'].value_counts()`**:\n",
        "    * **Pandas (Series method)**: Counts the unique values in the column named 'v1' (which typically contains our 'ham' or 'spam' labels). This helps us understand the distribution of our target classes and if the dataset is balanced."
      ],
      "metadata": {
        "id": "TObMd9hgsJQ7"
      }
    },
    {
      "cell_type": "code",
      "source": [
        "# we want only label and message column\n",
        "if df.shape[1]>2:\n",
        "  df = df.iloc[:,:2]\n",
        "\n",
        "df.columns = ['label','message']\n",
        "\n",
        "df['label'] = df['label'].map({'ham':0,'spam':1})\n",
        "\n",
        "print(df.head())\n",
        "print()\n",
        "print('Value_Counts',df['label'].value_counts())"
      ],
      "metadata": {
        "colab": {
          "base_uri": "https://localhost:8080/"
        },
        "collapsed": true,
        "id": "ePTg_q0UmQP9",
        "outputId": "5c2cffd5-beac-466e-c970-b2580a9807c5"
      },
      "execution_count": 24,
      "outputs": [
        {
          "output_type": "stream",
          "name": "stdout",
          "text": [
            "   label                                            message\n",
            "0      0  Go until jurong point, crazy.. Available only ...\n",
            "1      0                      Ok lar... Joking wif u oni...\n",
            "2      1  Free entry in 2 a wkly comp to win FA Cup fina...\n",
            "3      0  U dun say so early hor... U c already then say...\n",
            "4      0  Nah I don't think he goes to usf, he lives aro...\n",
            "\n",
            "Value_Counts label\n",
            "0    4825\n",
            "1     747\n",
            "Name: count, dtype: int64\n"
          ]
        },
        {
          "output_type": "stream",
          "name": "stderr",
          "text": [
            "/tmp/ipython-input-24-3062794497.py:7: SettingWithCopyWarning: \n",
            "A value is trying to be set on a copy of a slice from a DataFrame.\n",
            "Try using .loc[row_indexer,col_indexer] = value instead\n",
            "\n",
            "See the caveats in the documentation: https://pandas.pydata.org/pandas-docs/stable/user_guide/indexing.html#returning-a-view-versus-a-copy\n",
            "  df['label'] = df['label'].map({'ham':0,'spam':1})\n"
          ]
        }
      ]
    },
    {
      "cell_type": "markdown",
      "source": [
        "### What this cell does:\n",
        "\n",
        "This cell performs initial structural cleaning of our DataFrame. It renames the generic column headers to more meaningful names (`label` and `message`) and converts the text labels (`'ham'`, `'spam'`) into numerical values (`0`, `1`) for machine learning compatibility.\n",
        "\n",
        "#### How it works & Which libraries do what:\n",
        "\n",
        "* **`if df.shape[1] > 2: df = df.iloc[:, :2]`**:\n",
        "    * **Pandas (DataFrame attributes & methods)**: Checks if the DataFrame has more than 2 columns (often `spam.csv` has empty `Unnamed` columns). If so, `df.iloc[:, :2]` selects only the first two columns (all rows, first two columns) and creates a new DataFrame, effectively dropping the extra empty ones. `df.shape[1]` returns the number of columns.\n",
        "* **`df.columns = ['label', 'message']`**:\n",
        "    * **Pandas (DataFrame attribute)**: Assigns new, more descriptive names (`'label'`, `'message'`) to the columns. This makes the code more readable and intuitive.\n",
        "* **`df['label'] = df['label'].map({'ham': 0, 'spam': 1})`**:\n",
        "    * **Pandas (Series method)**: Applies a mapping to the 'label' column. It replaces every instance of 'ham' with `0` and every instance of 'spam' with `1`.\n",
        "        * **Why?**: Machine learning models typically require numerical input, so converting categorical text labels into numbers is a necessary step.\n",
        "        * **Important**: If any values in the 'label' column are neither 'ham' nor 'spam', `map` will by default insert a `NaN` (Not a Number) for those rows. This is why we might need the next diagnosis step if errors occur later."
      ],
      "metadata": {
        "id": "QDQKFiOxsNDA"
      }
    },
    {
      "cell_type": "code",
      "source": [
        "# --- DIAGNOSIS: Check for NaNs in the 'label' column ---\n",
        "print(\"\\n--- Diagnosing 'Input y contains NaN' error ---\")\n",
        "\n",
        "# Check if there are any NaN values in the 'label' column after mapping\n",
        "nan_labels_before_fix = df['label'].isnull().sum()\n",
        "print(f\"Number of NaN values in 'label' column: {nan_labels_before_fix}\")\n",
        "\n",
        "if nan_labels_before_fix > 0:\n",
        "    print(\"Found NaN values in 'label' column. This indicates some original 'v1' values were not 'ham' or 'spam'.\")\n",
        "    print(\"Rows with NaN labels (first 5 if many):\")\n",
        "    print(df[df['label'].isnull()].head())\n",
        "\n",
        "    # Optional: See what unmapped values caused NaNs in original 'v1'\n",
        "    # This might print 'nan' if the original column also had missing values, or other unexpected strings.\n",
        "    original_unmapped_values = df[df['label'].isnull()]['v1'].unique()\n",
        "    print(f\"Original 'v1' values that caused NaNs in 'label': {original_unmapped_values}\")\n",
        "\n",
        "    print(\"\\n--- Fixing: Dropping rows with NaN labels ---\")\n",
        "    # Drop rows where 'label' is NaN\n",
        "    df.dropna(subset=['label'], inplace=True)\n",
        "    print(f\"DataFrame shape after dropping NaNs: {df.shape}\")\n",
        "    print(\"NaN values in 'label' column after fix:\", df['label'].isnull().sum())\n",
        "else:\n",
        "    print(\"No NaN values found in 'label' column. Proceeding as planned.\")\n",
        "\n",
        "print(\"\\n--- Diagnosis and potential fix complete. Re-running subsequent steps is recommended. ---\")"
      ],
      "metadata": {
        "colab": {
          "base_uri": "https://localhost:8080/"
        },
        "collapsed": true,
        "id": "0caUSzoXqxfY",
        "outputId": "dc759ddf-872e-4a5e-8b6e-7a67b4e63141"
      },
      "execution_count": 25,
      "outputs": [
        {
          "output_type": "stream",
          "name": "stdout",
          "text": [
            "\n",
            "--- Diagnosing 'Input y contains NaN' error ---\n",
            "Number of NaN values in 'label' column: 0\n",
            "No NaN values found in 'label' column. Proceeding as planned.\n",
            "\n",
            "--- Diagnosis and potential fix complete. Re-running subsequent steps is recommended. ---\n"
          ]
        }
      ]
    },
    {
      "cell_type": "markdown",
      "source": [
        "### What this cell does:\n",
        "\n",
        "This crucial debugging cell checks for and handles any missing (NaN) values that might have appeared in the `label` column after we tried to map 'ham' and 'spam' to 0 and 1. This is a common issue that causes errors in machine learning models.\n",
        "\n",
        "#### How it works & Which libraries do what:\n",
        "\n",
        "* **`df['label'].isnull().sum()`**:\n",
        "    * **Pandas (Series methods)**: `isnull()` checks each value in the 'label' column and returns `True` if it's `NaN`, `False` otherwise. `.sum()` then counts how many `True` values (i.e., `NaN`s) there are.\n",
        "* **`df[df['label'].isnull()].head()`**:\n",
        "    * **Pandas (Boolean indexing)**: If `NaN`s are found, this line filters the DataFrame to show only the rows where the 'label' column is `NaN`. This helps us inspect what kind of data led to the `NaN`s.\n",
        "* **`df.dropna(subset=['label'], inplace=True)`**:\n",
        "    * **Pandas (DataFrame method)**: This is the fix. `dropna()` is used to remove rows containing `NaN` values.\n",
        "        * `subset=['label']`: Specifies that we only care about `NaN`s in the 'label' column. Rows with `NaN`s in other columns will not be dropped by this specific command.\n",
        "        * `inplace=True`: Modifies the DataFrame `df` directly, without needing to assign the result back to `df`.\n",
        "    * **Why?**: Machine learning models cannot process `NaN` values in the target variable (`y`). Removing these problematic rows ensures our data is clean for the model."
      ],
      "metadata": {
        "id": "br-faSGusQNX"
      }
    },
    {
      "cell_type": "code",
      "source": [
        "from nltk.corpus import stopwords\n",
        "from nltk.stem import PorterStemmer\n",
        "\n",
        "# Initialize stemmer and stop words\n",
        "stemmer = PorterStemmer()\n",
        "stop_words = set(stopwords.words('english'))\n",
        "\n",
        "def preprocess_text(text):\n",
        "    # 1. lower case\n",
        "    text = text.lower()\n",
        "\n",
        "    # 2. Remove/Normalize URLs\n",
        "    text = re.sub(r'http\\S+|www\\S+|https\\S+', ' url ', text)\n",
        "\n",
        "    # 3. Remove/Normalize Email Addresses\n",
        "    text = re.sub(r'\\S*@\\S*\\s?', ' emailaddr ', text)\n",
        "\n",
        "    # 4. Remove/Normalize Numbers\n",
        "    text = re.sub(r'\\d+', ' number ', text)\n",
        "\n",
        "    # 5. Remove Punctuation (keep spaces)\n",
        "    text = text.translate(str.maketrans('', '', string.punctuation))\n",
        "\n",
        "    # 6. Tokenization (split into words)\n",
        "    words = text.split()\n",
        "\n",
        "    # 7. Remove Stop Words and apply Stemming\n",
        "    words = [stemmer.stem(word) for word in words if word not in stop_words and word.strip() != '']\n",
        "\n",
        "    # Join words back into a single string\n",
        "    text = ' '.join(words)\n",
        "    return text\n",
        "\n",
        "# Apply the preprocessing function to the 'message' column\n",
        "df['cleaned_message'] = df['message'].apply(preprocess_text)\n",
        "\n",
        "print(\"\\nOriginal vs. Cleaned Message Examples:\")\n",
        "for i in range(5):\n",
        "    print(f\"Original: {df['message'].iloc[i]}\")\n",
        "    print(f\"Cleaned:  {df['cleaned_message'].iloc[i]}\\n\")\n",
        "\n",
        "print(\"\\nFirst 5 rows with cleaned messages:\")\n",
        "print(df.head())"
      ],
      "metadata": {
        "colab": {
          "base_uri": "https://localhost:8080/"
        },
        "collapsed": true,
        "id": "ssNmUMc4nayz",
        "outputId": "c4ca8dfc-5dc0-4e9a-df86-673744030ab4"
      },
      "execution_count": 26,
      "outputs": [
        {
          "output_type": "stream",
          "name": "stdout",
          "text": [
            "\n",
            "Original vs. Cleaned Message Examples:\n",
            "Original: Go until jurong point, crazy.. Available only in bugis n great world la e buffet... Cine there got amore wat...\n",
            "Cleaned:  go jurong point crazi avail bugi n great world la e buffet cine got amor wat\n",
            "\n",
            "Original: Ok lar... Joking wif u oni...\n",
            "Cleaned:  ok lar joke wif u oni\n",
            "\n",
            "Original: Free entry in 2 a wkly comp to win FA Cup final tkts 21st May 2005. Text FA to 87121 to receive entry question(std txt rate)T&C's apply 08452810075over18's\n",
            "Cleaned:  free entri number wkli comp win fa cup final tkt number st may number text fa number receiv entri questionstd txt ratetc appli number number\n",
            "\n",
            "Original: U dun say so early hor... U c already then say...\n",
            "Cleaned:  u dun say earli hor u c alreadi say\n",
            "\n",
            "Original: Nah I don't think he goes to usf, he lives around here though\n",
            "Cleaned:  nah dont think goe usf live around though\n",
            "\n",
            "\n",
            "First 5 rows with cleaned messages:\n",
            "   label                                            message  \\\n",
            "0      0  Go until jurong point, crazy.. Available only ...   \n",
            "1      0                      Ok lar... Joking wif u oni...   \n",
            "2      1  Free entry in 2 a wkly comp to win FA Cup fina...   \n",
            "3      0  U dun say so early hor... U c already then say...   \n",
            "4      0  Nah I don't think he goes to usf, he lives aro...   \n",
            "\n",
            "                                     cleaned_message  \n",
            "0  go jurong point crazi avail bugi n great world...  \n",
            "1                              ok lar joke wif u oni  \n",
            "2  free entri number wkli comp win fa cup final t...  \n",
            "3                u dun say earli hor u c alreadi say  \n",
            "4          nah dont think goe usf live around though  \n"
          ]
        }
      ]
    },
    {
      "cell_type": "markdown",
      "source": [
        "### What this cell does:\n",
        "\n",
        "This cell defines and applies a comprehensive text preprocessing function to clean up the raw email messages. This transforms messy, inconsistent text into a standardized format that's more suitable for machine learning.\n",
        "\n",
        "#### How it works & Which libraries do what:\n",
        "\n",
        "* **`from nltk.corpus import stopwords`**, **`from nltk.stem import PorterStemmer`**:\n",
        "    * **NLTK**: Imports `stopwords` (a list of common words like \"the\", \"is\") and `PorterStemmer` (a basic algorithm to reduce words to their root form).\n",
        "* **`stemmer = PorterStemmer()`**, **`stop_words = set(stopwords.words('english'))`**: Initializes the stemmer object and loads English stop words into a `set` (for fast lookup).\n",
        "* **`def preprocess_text(text):`**: Defines a Python function that takes a raw text string as input and performs a series of cleaning steps:\n",
        "    * **`text.lower()`**: Converts all text to lowercase.\n",
        "        * **Why?**: Treats \"Spam\" and \"spam\" as the same word, reducing vocabulary size and improving consistency.\n",
        "    * **`re.sub(r'http\\S+|www\\S+|https\\S+', ' url ', text)`**:\n",
        "        * **`re` (Regular Expressions)**: Uses regular expressions to find patterns for URLs (`http...`, `www...`, `https...`) and replaces them with a generic token `' url '`.\n",
        "        * **Why?**: Specific URLs are usually not important for spam detection; their presence is. Normalizing them prevents the model from memorizing specific links.\n",
        "    * **`re.sub(r'\\S*@\\S*\\s?', ' emailaddr ', text)`**: Similarly, replaces email addresses with `' emailaddr '`.\n",
        "    * **`re.sub(r'\\d+', ' number ', text)`**: Replaces sequences of digits (numbers) with `' number '`.\n",
        "    * **`text.translate(str.maketrans('', '', string.punctuation))`**:\n",
        "        * **`string`**: Removes all punctuation characters (like '.', '!', '?') from the text.\n",
        "        * **Why?**: Punctuation generally doesn't contribute much to the meaning for spam detection.\n",
        "    * **`words = text.split()`**: Breaks the cleaned text into individual words (tokens).\n",
        "    * **`[stemmer.stem(word) for word in words if word not in stop_words and word.strip() != '']`**: This is a list comprehension that:\n",
        "        * Iterates through each `word`.\n",
        "        * Checks `if word not in stop_words`: Removes common, less informative words.\n",
        "        * Checks `and word.strip() != ''`: Removes any empty strings that might result from cleaning.\n",
        "        * **`stemmer.stem(word)`**: Applies stemming, reducing words like \"running\", \"ran\", \"runs\" to their base form \"run\".\n",
        "        * **Why?**: Reduces the total number of unique words, helping the model generalize better by treating variations of the same word as identical.\n",
        "    * **`' '.join(words)`**: Joins the processed words back into a single string, separated by spaces.\n",
        "* **`df['cleaned_message'] = df['message'].apply(preprocess_text)`**:\n",
        "    * **Pandas (Series method)**: Applies the `preprocess_text` function to every message in the original 'message' column and saves the results in a new column called 'cleaned_message'."
      ],
      "metadata": {
        "id": "GYwW016JsUoZ"
      }
    },
    {
      "cell_type": "code",
      "source": [
        "# Initialize TF-IDF Vectorizer\n",
        "# max_features: Limits the number of unique words (features) to consider.\n",
        "#               This helps in managing computational resources and sometimes prevents overfitting.\n",
        "tfidf_vectorizer = TfidfVectorizer(max_features=5000)\n",
        "\n",
        "# Fit and transform the cleaned messages\n",
        "# .fit_transform() learns the vocabulary from the training data and then transforms the text into TF-IDF vectors.\n",
        "X = tfidf_vectorizer.fit_transform(df['cleaned_message']).toarray()\n",
        "\n",
        "# Get the target variable (labels)\n",
        "y = df['label']\n",
        "\n",
        "print(f\"Shape of our feature matrix (X): {X.shape}\")\n",
        "print(f\"Number of emails: {X.shape[0]}\")\n",
        "print(f\"Number of features (unique words with TF-IDF scores): {X.shape[1]}\")\n",
        "\n",
        "print(\"\\nFirst 5 rows of the TF-IDF feature matrix (X):\")\n",
        "print(X[:5, :10]) # Displaying first 5 rows and first 10 columns for brevity"
      ],
      "metadata": {
        "colab": {
          "base_uri": "https://localhost:8080/"
        },
        "collapsed": true,
        "id": "kjftV5leo0K6",
        "outputId": "1b62f3aa-0acd-4ea9-ec89-eaf1b8a11366"
      },
      "execution_count": 27,
      "outputs": [
        {
          "output_type": "stream",
          "name": "stdout",
          "text": [
            "Shape of our feature matrix (X): (5572, 5000)\n",
            "Number of emails: 5572\n",
            "Number of features (unique words with TF-IDF scores): 5000\n",
            "\n",
            "First 5 rows of the TF-IDF feature matrix (X):\n",
            "[[0. 0. 0. 0. 0. 0. 0. 0. 0. 0.]\n",
            " [0. 0. 0. 0. 0. 0. 0. 0. 0. 0.]\n",
            " [0. 0. 0. 0. 0. 0. 0. 0. 0. 0.]\n",
            " [0. 0. 0. 0. 0. 0. 0. 0. 0. 0.]\n",
            " [0. 0. 0. 0. 0. 0. 0. 0. 0. 0.]]\n"
          ]
        }
      ]
    },
    {
      "cell_type": "markdown",
      "source": [
        "### What this cell does:\n",
        "\n",
        "This cell transforms our clean text messages into numerical features using the TF-IDF (Term Frequency-Inverse Document Frequency) technique. This is how we convert human-readable text into a format that a machine learning model can process.\n",
        "\n",
        "#### How it works & Which libraries do what:\n",
        "\n",
        "* **`tfidf_vectorizer = TfidfVectorizer(max_features=5000)`**:\n",
        "    * **Scikit-learn (`TfidfVectorizer`)**: Creates an instance of the TF-IDF vectorizer.\n",
        "        * **`max_features=5000`**: This important parameter limits the vocabulary size. It means the vectorizer will only consider the 5000 words that have the highest TF-IDF scores across the entire dataset. This helps manage computational resources and can prevent overfitting.\n",
        "* **`X = tfidf_vectorizer.fit_transform(df['cleaned_message']).toarray()`**:\n",
        "    * **Scikit-learn (`TfidfVectorizer` methods)**:\n",
        "        * **`.fit_transform(df['cleaned_message'])`**: This method first `fits` the vectorizer to our data (learns all the unique words, their frequencies, and how common they are across all documents). Then, it `transforms` each `cleaned_message` into a numerical vector, where each number represents the TF-IDF score of a particular word in that message.\n",
        "        * **`.toarray()`**: `fit_transform` often returns a sparse matrix (efficient for text with many zeros). `.toarray()` converts this into a dense NumPy array, which is easier for many Scikit-learn models to work with.\n",
        "    * **NumPy**: The resulting `X` is a NumPy array representing our feature matrix. Each row is an email, and each column is a word (feature) with its TF-IDF score.\n",
        "* **`y = df['label']`**:\n",
        "    * **Pandas (Series assignment)**: Simply assigns the 'label' column (our numerical spam/ham labels) to the variable `y`. This is our target variable that the model will learn to predict."
      ],
      "metadata": {
        "id": "K8ffabYrsXdc"
      }
    },
    {
      "cell_type": "code",
      "source": [
        "# Split the data into training and testing sets\n",
        "# X: our features (TF-IDF vectors)\n",
        "# y: our labels (0 for ham, 1 for spam)\n",
        "# test_size=0.20: 20% of the data will be used for testing, 80% for training\n",
        "# random_state=42: Ensures reproducibility. If you run this code again, you'll get the exact same split.\n",
        "X_train, X_test, y_train, y_test = train_test_split(X, y, test_size=0.20, random_state=42)\n",
        "\n",
        "print(f\"Shape of X_train (training features): {X_train.shape}\")\n",
        "print(f\"Shape of X_test (testing features): {X_test.shape}\")\n",
        "print(f\"Shape of y_train (training labels): {y_train.shape}\")\n",
        "print(f\"Shape of y_test (testing labels): {y_test.shape}\")\n",
        "\n",
        "print(\"\\nData splitting complete!\")"
      ],
      "metadata": {
        "colab": {
          "base_uri": "https://localhost:8080/"
        },
        "collapsed": true,
        "id": "KgHRfJCPpGEQ",
        "outputId": "242bab26-8f6d-466d-c4eb-da263fd96dd3"
      },
      "execution_count": 28,
      "outputs": [
        {
          "output_type": "stream",
          "name": "stdout",
          "text": [
            "Shape of X_train (training features): (4457, 5000)\n",
            "Shape of X_test (testing features): (1115, 5000)\n",
            "Shape of y_train (training labels): (4457,)\n",
            "Shape of y_test (testing labels): (1115,)\n",
            "\n",
            "Data splitting complete!\n"
          ]
        }
      ]
    },
    {
      "cell_type": "markdown",
      "source": [
        "### What this cell does:\n",
        "\n",
        "This cell divides our entire dataset (`X` and `y`) into two distinct parts: a training set and a testing set. This is a fundamental step in machine learning to ensure proper model evaluation.\n",
        "\n",
        "#### How it works & Which libraries do what:\n",
        "\n",
        "* **`from sklearn.model_selection import train_test_split`**:\n",
        "    * **Scikit-learn (`train_test_split`)**: Imports the function specifically designed for splitting datasets.\n",
        "* **`X_train, X_test, y_train, y_test = train_test_split(X, y, test_size=0.20, random_state=42)`**:\n",
        "    * **`train_test_split`**: This function performs the actual split.\n",
        "        * `X`: Our feature matrix (TF-IDF vectors).\n",
        "        * `y`: Our target labels (0 for ham, 1 for spam).\n",
        "        * `test_size=0.20`: Specifies that 20% of the data will be held back for testing, meaning 80% will be used for training.\n",
        "        * `random_state=42`: This is a \"seed\" for the random number generator. By setting it to a fixed number (like 42), we ensure that the split is exactly the same every time we run the code. This makes our results reproducible.\n",
        "    * **Output**: The function returns four separate arrays:\n",
        "        * `X_train`: Features for training.\n",
        "        * `X_test`: Features for testing.\n",
        "        * `y_train`: Labels corresponding to `X_train`.\n",
        "        * `y_test`: Labels corresponding to `X_test`.\n",
        "* **`print(f\"Shape of ...\")`**:\n",
        "    * **NumPy (Array attribute)**: The `.shape` attribute of a NumPy array (which `X_train`, `X_test`, `y_train`, `y_test` are) returns a tuple indicating its dimensions. Printing these helps confirm that our data has been split correctly."
      ],
      "metadata": {
        "id": "zP8xFw4YsaSo"
      }
    },
    {
      "cell_type": "code",
      "source": [
        "# Initialize the Multinomial Naive Bayes model\n",
        "model = MultinomialNB()\n",
        "\n",
        "# Train the model using the training data\n",
        "# The .fit() method \"teaches\" the model to find patterns between features (X_train) and labels (y_train).\n",
        "model.fit(X_train, y_train)\n",
        "\n",
        "print(\"Multinomial Naive Bayes model trained successfully!\")"
      ],
      "metadata": {
        "colab": {
          "base_uri": "https://localhost:8080/"
        },
        "id": "5-X5gWyxpLcf",
        "outputId": "9731ea51-451b-4518-867e-4c1639bee723"
      },
      "execution_count": 29,
      "outputs": [
        {
          "output_type": "stream",
          "name": "stdout",
          "text": [
            "Multinomial Naive Bayes model trained successfully!\n"
          ]
        }
      ]
    },
    {
      "cell_type": "markdown",
      "source": [
        "### What this cell does:\n",
        "\n",
        "This cell initializes our chosen machine learning model, the Multinomial Naive Bayes classifier, and then \"trains\" it using our prepared training data. This is where the model learns to identify patterns between the email features and their spam/ham labels.\n",
        "\n",
        "#### How it works & Which libraries do what:\n",
        "\n",
        "* **`from sklearn.naive_bayes import MultinomialNB`**:\n",
        "    * **Scikit-learn (`MultinomialNB`)**: Imports the Multinomial Naive Bayes classifier.\n",
        "        * **Why this model?**: Naive Bayes algorithms are probabilistic classifiers well-suited for text classification (often performing surprisingly well with TF-IDF or Bag-of-Words features) because they work effectively with discrete features like word counts/frequencies. Multinomial Naive Bayes is specifically designed for features that represent counts or frequencies, like our TF-IDF values.\n",
        "* **`model = MultinomialNB()`**:\n",
        "    * **Scikit-learn (Model instantiation)**: Creates an instance of our `MultinomialNB` model. At this point, the model is \"empty\" and hasn't learned anything yet.\n",
        "* **`model.fit(X_train, y_train)`**:\n",
        "    * **Scikit-learn (Model method)**: This is the core \"training\" step.\n",
        "        * `X_train`: The feature matrix (TF-IDF vectors) from our training set.\n",
        "        * `y_train`: The corresponding labels (0 for ham, 1 for spam) from our training set.\n",
        "        * The `fit()` method processes `X_train` and `y_train` to learn the statistical relationships between the words (features) and the email categories (labels). It calculates probabilities that specific words appear in spam emails versus ham emails."
      ],
      "metadata": {
        "id": "kz1vJyRRsh_c"
      }
    },
    {
      "cell_type": "code",
      "source": [
        "# Make predictions on the test set\n",
        "# The .predict() method uses the trained model to predict labels for the unseen features (X_test).\n",
        "y_pred = model.predict(X_test)\n",
        "\n",
        "print(\"Predictions made on the test set.\")\n",
        "\n",
        "# --- Evaluate the Model's Performance ---\n",
        "\n",
        "# 1. Accuracy Score: Overall correct predictions\n",
        "accuracy = accuracy_score(y_test, y_pred)\n",
        "print(f\"\\nAccuracy: {accuracy:.4f}\")\n",
        "\n",
        "# 2. Precision Score: Out of all predicted spam, how many were actually spam?\n",
        "#    High precision means fewer legitimate emails are wrongly flagged as spam (False Positives).\n",
        "precision = precision_score(y_test, y_pred)\n",
        "print(f\"Precision: {precision:.4f}\")\n",
        "\n",
        "# 3. Recall Score: Out of all actual spam emails, how many did the model correctly identify?\n",
        "#    High recall means fewer spam emails slip through (False Negatives).\n",
        "recall = recall_score(y_test, y_pred)\n",
        "print(f\"Recall: {recall:.4f}\")\n",
        "\n",
        "# 4. F1-Score: The harmonic mean of Precision and Recall. Useful when you need a balance.\n",
        "f1 = f1_score(y_test, y_pred)\n",
        "print(f\"F1-Score: {f1:.4f}\")\n",
        "\n",
        "# 5. Confusion Matrix: A detailed breakdown of correct and incorrect predictions.\n",
        "#    It shows True Positives, True Negatives, False Positives, False Negatives.\n",
        "cm = confusion_matrix(y_test, y_pred)\n",
        "print(\"\\nConfusion Matrix:\")\n",
        "print(cm)\n",
        "\n",
        "# Visualize the Confusion Matrix for better understanding\n",
        "plt.figure(figsize=(6, 5))\n",
        "sns.heatmap(cm, annot=True, fmt='d', cmap='Blues', cbar=False,\n",
        "            xticklabels=['Ham Predicted', 'Spam Predicted'],\n",
        "            yticklabels=['Actual Ham', 'Actual Spam'])\n",
        "plt.title('Confusion Matrix for Spam Classifier')\n",
        "plt.xlabel('Predicted Label')\n",
        "plt.ylabel('True Label')\n",
        "plt.show()\n",
        "\n",
        "print(\"\\nModel evaluation complete!\")"
      ],
      "metadata": {
        "colab": {
          "base_uri": "https://localhost:8080/",
          "height": 704
        },
        "collapsed": true,
        "id": "HeYf2Sc_rAz4",
        "outputId": "c2eaa8fb-8570-4669-ca6f-f67b644a195f"
      },
      "execution_count": 30,
      "outputs": [
        {
          "output_type": "stream",
          "name": "stdout",
          "text": [
            "Predictions made on the test set.\n",
            "\n",
            "Accuracy: 0.9740\n",
            "Precision: 1.0000\n",
            "Recall: 0.8067\n",
            "F1-Score: 0.8930\n",
            "\n",
            "Confusion Matrix:\n",
            "[[965   0]\n",
            " [ 29 121]]\n"
          ]
        },
        {
          "output_type": "display_data",
          "data": {
            "text/plain": [
              "<Figure size 600x500 with 1 Axes>"
            ],
            "image/png": "[encoded data removed]"
          },
          "metadata": {}
        },
        {
          "output_type": "stream",
          "name": "stdout",
          "text": [
            "\n",
            "Model evaluation complete!\n"
          ]
        }
      ]
    },
    {
      "cell_type": "markdown",
      "source": [
        "### What this cell does:\n",
        "\n",
        "This cell evaluates the performance of our trained model. It uses the model to make predictions on the unseen test data and then calculates various metrics (Accuracy, Precision, Recall, F1-Score) and displays a Confusion Matrix to give us a comprehensive understanding of how well the model classifies emails.\n",
        "\n",
        "#### How it works & Which libraries do what:\n",
        "\n",
        "* **`y_pred = model.predict(X_test)`**:\n",
        "    * **Scikit-learn (Model method)**: Uses the `predict()` method of our trained `model` to generate predictions (`y_pred`) for the `X_test` (the features of emails the model has never seen). These predictions will be either 0 (ham) or 1 (spam).\n",
        "* **`accuracy_score(y_test, y_pred)`**:\n",
        "    * **Scikit-learn (Metrics)**: Calculates the overall proportion of correct predictions (both ham and spam) out of all predictions made.\n",
        "* **`precision_score(y_test, y_pred)`**:\n",
        "    * **Scikit-learn (Metrics)**: Focuses on the *predicted positive* (spam) class. It tells us: \"Out of all the emails the model *predicted* as spam, what percentage were *actually* spam?\" High precision reduces \"False Positives\" (legitimate emails wrongly marked as spam).\n",
        "* **`recall_score(y_test, y_pred)`**:\n",
        "    * **Scikit-learn (Metrics)**: Focuses on the *actual positive* (spam) class. It tells us: \"Out of all the emails that were *actually* spam, what percentage did the model correctly identify?\" High recall reduces \"False Negatives\" (spam emails that slip through).\n",
        "* **`f1_score(y_test, y_pred)`**:\n",
        "    * **Scikit-learn (Metrics)**: The harmonic mean of precision and recall. It provides a single score that balances both metrics, especially useful for datasets where one class is much more frequent than the other (like ham vs. spam).\n",
        "* **`cm = confusion_matrix(y_test, y_pred)`**:\n",
        "    * **Scikit-learn (Metrics)**: Creates a confusion matrix, a table that summarizes the performance of a classification model.\n",
        "        * It shows True Positives (correctly identified spam), True Negatives (correctly identified ham), False Positives (ham incorrectly identified as spam), and False Negatives (spam incorrectly identified as ham).\n",
        "* **`sns.heatmap(cm, annot=True, fmt='d', cmap='Blues', ...)`**:\n",
        "    * **Seaborn (`sns`)**: Used to create a heatmap visualization of the `confusion_matrix`.\n",
        "    * **Matplotlib (`plt`)**: Works in conjunction with Seaborn to display the plot.\n",
        "    * **Why visualize?**: The heatmap makes it much easier to visually interpret the numbers in the confusion matrix and understand where your model is making errors."
      ],
      "metadata": {
        "id": "Rh0tv-uKslvg"
      }
    },
    {
      "cell_type": "code",
      "source": [
        "# Function to predict if a new message is spam or ham\n",
        "def predict_spam_or_ham(message):\n",
        "    # 1. Preprocess the new message using the same function\n",
        "    cleaned_message = preprocess_text(message)\n",
        "\n",
        "    # 2. Transform the cleaned message using the SAME TF-IDF vectorizer\n",
        "    #    It's crucial to use the already fitted tfidf_vectorizer\n",
        "    vectorized_message = tfidf_vectorizer.transform([cleaned_message])\n",
        "\n",
        "    # 3. Make prediction using the trained model\n",
        "    prediction = model.predict(vectorized_message)\n",
        "    prediction_proba = model.predict_proba(vectorized_message) # Get probabilities\n",
        "\n",
        "    # 4. Interpret the prediction\n",
        "    if prediction[0] == 1:\n",
        "        result = \"SPAM\"\n",
        "        confidence = prediction_proba[0][1] # Probability of being spam\n",
        "    else:\n",
        "        result = \"HAM\"\n",
        "        confidence = prediction_proba[0][0] # Probability of being ham\n",
        "\n",
        "    print(f\"\\nOriginal Message: '{message}'\")\n",
        "    print(f\"Cleaned Message:  '{cleaned_message}'\")\n",
        "    print(f\"Prediction: This message is likely {result} (Confidence: {confidence:.2f})\")\n",
        "\n",
        "# --- Test with some example messages ---\n",
        "\n",
        "# Example 1: A clear spam message\n",
        "spam_example = \"Free entry to a contest to win cash! text won to 87121 to claim now. This is a one time offer. claim your prize today.\"\n",
        "predict_spam_or_ham(spam_example)\n",
        "\n",
        "# Example 2: A clear ham message\n",
        "ham_example = \"Hey, can we meet tomorrow for lunch at 1 PM? Let me know if that works for you.\"\n",
        "predict_spam_or_ham(ham_example)\n",
        "\n",
        "# Example 3: Another potential spam message\n",
        "spam_example_2 = \"URGENT! You have won a £1000 prize guaranteed. Call 09061701461. Claim code KL65.\"\n",
        "predict_spam_or_ham(spam_example_2)\n",
        "\n",
        "# Example 4: Another ham message with some numbers\n",
        "ham_example_2 = \"My order number is 78901. It was placed on 23/10/2024. Can you check its status?\"\n",
        "predict_spam_or_ham(ham_example_2)\n",
        "\n",
        "# Example 5: A tricky one (you can modify and test)\n",
        "tricky_message = \"Your account has been suspended due to unusual activity. Please verify your details at http://some-malicious-link.com now to avoid deactivation.\"\n",
        "predict_spam_or_ham(tricky_message)"
      ],
      "metadata": {
        "colab": {
          "base_uri": "https://localhost:8080/"
        },
        "collapsed": true,
        "id": "-5J1G11nrNGB",
        "outputId": "50b812cb-5206-4809-f221-a52404e06e51"
      },
      "execution_count": 31,
      "outputs": [
        {
          "output_type": "stream",
          "name": "stdout",
          "text": [
            "\n",
            "Original Message: 'Free entry to a contest to win cash! text won to 87121 to claim now. This is a one time offer. claim your prize today.'\n",
            "Cleaned Message:  'free entri contest win cash text number claim one time offer claim prize today'\n",
            "Prediction: This message is likely SPAM (Confidence: 0.95)\n",
            "\n",
            "Original Message: 'Hey, can we meet tomorrow for lunch at 1 PM? Let me know if that works for you.'\n",
            "Cleaned Message:  'hey meet tomorrow lunch number pm let know work'\n",
            "Prediction: This message is likely HAM (Confidence: 1.00)\n",
            "\n",
            "Original Message: 'URGENT! You have won a £1000 prize guaranteed. Call 09061701461. Claim code KL65.'\n",
            "Cleaned Message:  'urgent £ number prize guarante call number claim code kl number'\n",
            "Prediction: This message is likely SPAM (Confidence: 0.99)\n",
            "\n",
            "Original Message: 'My order number is 78901. It was placed on 23/10/2024. Can you check its status?'\n",
            "Cleaned Message:  'order number number place number number number check statu'\n",
            "Prediction: This message is likely HAM (Confidence: 0.83)\n",
            "\n",
            "Original Message: 'Your account has been suspended due to unusual activity. Please verify your details at http://some-malicious-link.com now to avoid deactivation.'\n",
            "Cleaned Message:  'account suspend due unusu activ pleas verifi detail url avoid deactiv'\n",
            "Prediction: This message is likely HAM (Confidence: 0.61)\n"
          ]
        }
      ]
    },
    {
      "cell_type": "markdown",
      "source": [
        "### What this cell does:\n",
        "\n",
        "This final cell demonstrates how to use your trained spam classifier model to predict whether new, unseen messages are \"spam\" or \"ham\" in a real-world scenario.\n",
        "\n",
        "#### How it works & Which libraries do what:\n",
        "\n",
        "* **`def predict_spam_or_ham(message):`**: Defines a reusable Python function to encapsulate the prediction process for any given message string.\n",
        "* **`cleaned_message = preprocess_text(message)`**:\n",
        "    * **Custom Function**: Calls the `preprocess_text` function (defined in Code Cell 4) to apply all the same cleaning steps (lowercasing, removing URLs, numbers, punctuation, stop words, stemming) to the new input message.\n",
        "    * **Why?**: It's absolutely critical to apply the *exact same* preprocessing steps to new data as were applied to the training data. The model was trained on cleaned text, so it expects cleaned text.\n",
        "* **`vectorized_message = tfidf_vectorizer.transform([cleaned_message])`**:\n",
        "    * **Scikit-learn (`TfidfVectorizer` method)**: Uses the *already fitted* `tfidf_vectorizer` (the one that learned the vocabulary from your training data) to transform the *single* `cleaned_message` into its TF-IDF numerical vector representation.\n",
        "    * **Important**: We use `transform()` here, not `fit_transform()`, because the vectorizer has already \"learned\" its vocabulary. We pass `[cleaned_message]` as a list because the `transform` method expects an iterable (even for a single item).\n",
        "* **`prediction = model.predict(vectorized_message)`**:\n",
        "    * **Scikit-learn (Model method)**: The trained `model` (Multinomial Naive Bayes) takes the `vectorized_message` as input and outputs its prediction (0 for ham, 1 for spam).\n",
        "* **`prediction_proba = model.predict_proba(vectorized_message)`**:\n",
        "    * **Scikit-learn (Model method)**: For models that support it (like Naive Bayes), `predict_proba` returns the probability of the input belonging to each class. This gives us a \"confidence\" score for the prediction.\n",
        "* **`if prediction[0] == 1:` ... `else:`**: Interprets the numerical prediction (0 or 1) into human-readable \"SPAM\" or \"HAM\" and displays the associated confidence."
      ],
      "metadata": {
        "id": "h7Qo4_zMspSO"
      }
    }
  ]
}